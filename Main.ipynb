{
 "cells": [
  {
   "cell_type": "markdown",
   "metadata": {},
   "source": [
    "# Homework 3"
   ]
  },
  {
   "cell_type": "markdown",
   "metadata": {},
   "source": [
    "Leonardo Masci, Jeremy Sapienza, Antonio Zappia"
   ]
  },
  {
   "cell_type": "markdown",
   "metadata": {},
   "source": [
    "The aim of this homework is to create a search engine that returns some book suggestions, given an input from the user in the form of words. To achieve this, we first scraped the website Goodreads.com, in its \"best books ever\" section, to get a dataset of 30,000 books. Once we had our dataset, we created increasingly better search algorithms to get to a satisfying result.\n",
    "\n",
    "Next, we analyzed the top 10 book series of our dataset to see the course of their total pages throughout the single books of each series.\n",
    "\n",
    "Finally, in the last exercise we faced a recursive algorithm and its running time."
   ]
  },
  {
   "cell_type": "code",
   "execution_count": null,
   "metadata": {},
   "outputs": [],
   "source": [
    "import functions as fun\n",
    "import json"
   ]
  },
  {
   "cell_type": "markdown",
   "metadata": {},
   "source": [
    "## 1) Data Collection"
   ]
  },
  {
   "cell_type": "markdown",
   "metadata": {},
   "source": [
    "Since no dataset was provided for this homework, we had to create our own dataset by scraping the given website, which was done in the following steps."
   ]
  },
  {
   "cell_type": "markdown",
   "metadata": {},
   "source": [
    "### 1.1 Get the list of books"
   ]
  },
  {
   "cell_type": "markdown",
   "metadata": {},
   "source": [
    "Firstly, we had to get the list of all the books we wanted to add to our dataset. This included all the books found in the first 300 pages of the \"best books ever\" section.\n",
    "Therefore, we created a function that scrapes a certain number of pages from an initial url, to extract the url of each of them. The initial url and the following number of pages are given as input, while the resulting urls are stored in a txt file called \"urlpages.txt\" ."
   ]
  },
  {
   "cell_type": "code",
   "execution_count": 23,
   "metadata": {},
   "outputs": [],
   "source": [
    "fun.get_urls(\"https://www.goodreads.com/list/show/1.Best_Books_Ever?page=\", 300)"
   ]
  },
  {
   "cell_type": "markdown",
   "metadata": {},
   "source": [
    "### 1.2 Crawl books"
   ]
  },
  {
   "cell_type": "markdown",
   "metadata": {},
   "source": [
    "Once we had our txt file containing all the urls, we created a second function that downloads the html of each given url. These htmls are collected in different folders, depending on the corresponding page. Moreover, we added a try and except to be sure that all requests that we could lose will be re-scrape in a second moment."
   ]
  },
  {
   "cell_type": "code",
   "execution_count": 24,
   "metadata": {},
   "outputs": [],
   "source": [
    "fun.crawl_urls(300, \"urlpages.txt\")"
   ]
  },
  {
   "cell_type": "markdown",
   "metadata": {},
   "source": [
    "### 1.3 Parse downloaded pages"
   ]
  },
  {
   "cell_type": "markdown",
   "metadata": {},
   "source": [
    "Finally, after completing this step, we went on to actually parse the given html articles. We will obtain for each html article its article_i.tsv."
   ]
  },
  {
   "cell_type": "code",
   "execution_count": null,
   "metadata": {},
   "outputs": [],
   "source": [
    "fun.get_scraping(\"html_pages\")"
   ]
  },
  {
   "cell_type": "markdown",
   "metadata": {},
   "source": [
    "### Creating and concatening the final dataset for our purposes"
   ]
  },
  {
   "cell_type": "markdown",
   "metadata": {},
   "source": [
    "Since running the above mentioned functions took a long time, the three of us split the work among us. So in the end we run another function that returned our distinct outputs as tsv files and combined those three to create the final dataset we will be working with."
   ]
  },
  {
   "cell_type": "code",
   "execution_count": null,
   "metadata": {},
   "outputs": [],
   "source": [
    "fun.finaldataset_tsv(\"html_pages\")"
   ]
  },
  {
   "cell_type": "markdown",
   "metadata": {},
   "source": [
    "## 2) Search Engine"
   ]
  },
  {
   "cell_type": "markdown",
   "metadata": {},
   "source": [
    "Now that we have our dataset, we can start working on the search engines we are interested in, starting with a very simple search engine and work our way towards a more complex one."
   ]
  },
  {
   "cell_type": "code",
   "execution_count": 2,
   "metadata": {},
   "outputs": [],
   "source": [
    "df = fun.openCSV(\"finaloutput.csv\")"
   ]
  },
  {
   "cell_type": "code",
   "execution_count": 3,
   "metadata": {},
   "outputs": [
    {
     "data": {
      "text/html": [
       "<div>\n",
       "<style scoped>\n",
       "    .dataframe tbody tr th:only-of-type {\n",
       "        vertical-align: middle;\n",
       "    }\n",
       "\n",
       "    .dataframe tbody tr th {\n",
       "        vertical-align: top;\n",
       "    }\n",
       "\n",
       "    .dataframe thead th {\n",
       "        text-align: right;\n",
       "    }\n",
       "</style>\n",
       "<table border=\"1\" class=\"dataframe\">\n",
       "  <thead>\n",
       "    <tr style=\"text-align: right;\">\n",
       "      <th></th>\n",
       "      <th>bookTitle</th>\n",
       "      <th>bookSeries</th>\n",
       "      <th>bookAuthors</th>\n",
       "      <th>ratingValue</th>\n",
       "      <th>ratingCount</th>\n",
       "      <th>reviewCount</th>\n",
       "      <th>Plot</th>\n",
       "      <th>NumberofPages</th>\n",
       "      <th>Published</th>\n",
       "      <th>Characters</th>\n",
       "      <th>Setting</th>\n",
       "      <th>Url</th>\n",
       "    </tr>\n",
       "  </thead>\n",
       "  <tbody>\n",
       "    <tr>\n",
       "      <th>0</th>\n",
       "      <td>The Hunger Games</td>\n",
       "      <td>(The Hunger Games #1)</td>\n",
       "      <td>Suzanne Collins</td>\n",
       "      <td>4.33</td>\n",
       "      <td>6413302</td>\n",
       "      <td>172615</td>\n",
       "      <td>Could you survive on your own in the wild, wit...</td>\n",
       "      <td>374</td>\n",
       "      <td>September 14th 2008</td>\n",
       "      <td>Katniss Everdeen, Peeta Mellark, Cato (Hunger ...</td>\n",
       "      <td>District 12, Panem, Capitol, Panem, Panem</td>\n",
       "      <td>https://www.goodreads.com/book/show/2767052-th...</td>\n",
       "    </tr>\n",
       "    <tr>\n",
       "      <th>1</th>\n",
       "      <td>Harry Potter and the Order of the Phoenix</td>\n",
       "      <td>(Harry Potter #5)</td>\n",
       "      <td>J.K. Rowling</td>\n",
       "      <td>4.50</td>\n",
       "      <td>2527001</td>\n",
       "      <td>42768</td>\n",
       "      <td>There is a door at the end of a silent corrido...</td>\n",
       "      <td>870</td>\n",
       "      <td>September 2004 by</td>\n",
       "      <td>Sirius Black, Draco Malfoy, Ron Weasley, Petun...</td>\n",
       "      <td>Hogwarts School of Witchcraft and Wizardry, Lo...</td>\n",
       "      <td>https://www.goodreads.com/book/show/2.Harry_Po...</td>\n",
       "    </tr>\n",
       "    <tr>\n",
       "      <th>2</th>\n",
       "      <td>To Kill a Mockingbird</td>\n",
       "      <td>(To Kill a Mockingbird)</td>\n",
       "      <td>Harper Lee</td>\n",
       "      <td>4.28</td>\n",
       "      <td>4530963</td>\n",
       "      <td>91866</td>\n",
       "      <td>The unforgettable novel of a childhood in a sl...</td>\n",
       "      <td>324</td>\n",
       "      <td>May 23rd 2006</td>\n",
       "      <td>Scout Finch, Atticus Finch, Jem Finch, Arthur ...</td>\n",
       "      <td>Maycomb, Alabama</td>\n",
       "      <td>https://www.goodreads.com/book/show/2657.To_Ki...</td>\n",
       "    </tr>\n",
       "    <tr>\n",
       "      <th>3</th>\n",
       "      <td>Pride and Prejudice</td>\n",
       "      <td></td>\n",
       "      <td>Jane Austen</td>\n",
       "      <td>4.26</td>\n",
       "      <td>3020392</td>\n",
       "      <td>67869</td>\n",
       "      <td>Alternate cover edition of ISBN 9780679783268S...</td>\n",
       "      <td>279</td>\n",
       "      <td>October 10th 2000</td>\n",
       "      <td>Mr. Bennet, Mrs. Bennet, Jane Bennet, Elizabet...</td>\n",
       "      <td>United Kingdom, Derbyshire, England, England, ...</td>\n",
       "      <td>https://www.goodreads.com/book/show/1885.Pride...</td>\n",
       "    </tr>\n",
       "    <tr>\n",
       "      <th>4</th>\n",
       "      <td>Twilight</td>\n",
       "      <td>(The Twilight Saga #1)</td>\n",
       "      <td>Stephenie Meyer</td>\n",
       "      <td>3.60</td>\n",
       "      <td>4993492</td>\n",
       "      <td>104954</td>\n",
       "      <td>About three things I was absolutely positive.F...</td>\n",
       "      <td>501</td>\n",
       "      <td>September 6th 2006</td>\n",
       "      <td>Edward Cullen, Jacob Black, Laurent, Renee, Be...</td>\n",
       "      <td>Forks, Washington, Phoenix, Arizona, Washingto...</td>\n",
       "      <td>https://www.goodreads.com/book/show/41865.Twil...</td>\n",
       "    </tr>\n",
       "  </tbody>\n",
       "</table>\n",
       "</div>"
      ],
      "text/plain": [
       "                                   bookTitle               bookSeries  \\\n",
       "0                           The Hunger Games    (The Hunger Games #1)   \n",
       "1  Harry Potter and the Order of the Phoenix        (Harry Potter #5)   \n",
       "2                      To Kill a Mockingbird  (To Kill a Mockingbird)   \n",
       "3                        Pride and Prejudice                            \n",
       "4                                   Twilight   (The Twilight Saga #1)   \n",
       "\n",
       "       bookAuthors  ratingValue  ratingCount  reviewCount  \\\n",
       "0  Suzanne Collins         4.33      6413302       172615   \n",
       "1     J.K. Rowling         4.50      2527001        42768   \n",
       "2       Harper Lee         4.28      4530963        91866   \n",
       "3      Jane Austen         4.26      3020392        67869   \n",
       "4  Stephenie Meyer         3.60      4993492       104954   \n",
       "\n",
       "                                                Plot NumberofPages  \\\n",
       "0  Could you survive on your own in the wild, wit...           374   \n",
       "1  There is a door at the end of a silent corrido...           870   \n",
       "2  The unforgettable novel of a childhood in a sl...           324   \n",
       "3  Alternate cover edition of ISBN 9780679783268S...           279   \n",
       "4  About three things I was absolutely positive.F...           501   \n",
       "\n",
       "             Published                                         Characters  \\\n",
       "0  September 14th 2008  Katniss Everdeen, Peeta Mellark, Cato (Hunger ...   \n",
       "1    September 2004 by  Sirius Black, Draco Malfoy, Ron Weasley, Petun...   \n",
       "2        May 23rd 2006  Scout Finch, Atticus Finch, Jem Finch, Arthur ...   \n",
       "3    October 10th 2000  Mr. Bennet, Mrs. Bennet, Jane Bennet, Elizabet...   \n",
       "4   September 6th 2006  Edward Cullen, Jacob Black, Laurent, Renee, Be...   \n",
       "\n",
       "                                             Setting  \\\n",
       "0          District 12, Panem, Capitol, Panem, Panem   \n",
       "1  Hogwarts School of Witchcraft and Wizardry, Lo...   \n",
       "2                                   Maycomb, Alabama   \n",
       "3  United Kingdom, Derbyshire, England, England, ...   \n",
       "4  Forks, Washington, Phoenix, Arizona, Washingto...   \n",
       "\n",
       "                                                 Url  \n",
       "0  https://www.goodreads.com/book/show/2767052-th...  \n",
       "1  https://www.goodreads.com/book/show/2.Harry_Po...  \n",
       "2  https://www.goodreads.com/book/show/2657.To_Ki...  \n",
       "3  https://www.goodreads.com/book/show/1885.Pride...  \n",
       "4  https://www.goodreads.com/book/show/41865.Twil...  "
      ]
     },
     "execution_count": 3,
     "metadata": {},
     "output_type": "execute_result"
    }
   ],
   "source": [
    "df.head()"
   ]
  },
  {
   "cell_type": "markdown",
   "metadata": {},
   "source": [
    "### Cleaning data and creating the index"
   ]
  },
  {
   "cell_type": "markdown",
   "metadata": {},
   "source": [
    "Before we can proceed with the search engines, we need to clean the dataset we have obtained and create a vocabulary. \n",
    "\n",
    "The clean data is needed to apply the search engine, as the input words may not match the ones in our file if processed raw. For this reason, we remove stopwords (such as 'a', 'the', etc.) and punctuation, which do not constitute valuable information about the text, and then we apply stemming. This way, we are left with only the root of words, which will make matching in the coming functions that much easier. These are some of the methods in the Bag-of-words model, which has the ultimate goal of creating a vocabulary of all the unique words found in a given text.\n",
    "\n",
    "That is why we defined a copy of the original dataset as the clean version of the dataset itself. This way we can create the needed vocabulary, which will be based on the 'Plot' column."
   ]
  },
  {
   "cell_type": "code",
   "execution_count": 4,
   "metadata": {},
   "outputs": [],
   "source": [
    "df1 = df.copy()"
   ]
  },
  {
   "cell_type": "code",
   "execution_count": 5,
   "metadata": {},
   "outputs": [],
   "source": [
    "df1['Plot'] = df1.Plot.apply(lambda x: fun.clean_text(x))"
   ]
  },
  {
   "cell_type": "markdown",
   "metadata": {},
   "source": [
    "### 2.1. Conjunctive query"
   ]
  },
  {
   "cell_type": "markdown",
   "metadata": {},
   "source": [
    "#### 2.1.1) Create your index!"
   ]
  },
  {
   "cell_type": "markdown",
   "metadata": {},
   "source": [
    "Having cleaned the dataset's Plot column with the Bag-of-words model, we now create the vocabulary for the whole dataset, which contains all of the documents. This vocabulary will contain all the tokens of the dataset as keys and for each token the list of documents that token is found in."
   ]
  },
  {
   "cell_type": "code",
   "execution_count": 6,
   "metadata": {},
   "outputs": [],
   "source": [
    "vocabulary = fun.create_vocabulary(df1)"
   ]
  },
  {
   "cell_type": "markdown",
   "metadata": {},
   "source": [
    "We then save it, to avoid having to calculate the data structure every time. For this reason, we create and open the json file containing the vocabulary."
   ]
  },
  {
   "cell_type": "code",
   "execution_count": 7,
   "metadata": {},
   "outputs": [],
   "source": [
    "a_file = open(\"vocabulary.json\", \"w\")\n",
    "a_file = json.dump(vocabulary, a_file)"
   ]
  },
  {
   "cell_type": "code",
   "execution_count": 8,
   "metadata": {},
   "outputs": [],
   "source": [
    "a_file = open(\"vocabulary.json\", \"r\")\n",
    "vocabulary = json.load(a_file)"
   ]
  },
  {
   "cell_type": "markdown",
   "metadata": {},
   "source": [
    "Consequently, we define an inverted list, which will contain the keys of the vocabulary as keys with the difference that they will no longer be in the form of tokens but as a number (the index). This way, each key contains a list of values corresponding to the documents where that specific token is present."
   ]
  },
  {
   "cell_type": "code",
   "execution_count": 9,
   "metadata": {},
   "outputs": [],
   "source": [
    "inv_lst = fun.create_inverted_list(vocabulary)"
   ]
  },
  {
   "cell_type": "markdown",
   "metadata": {},
   "source": [
    "#### 2.1.2) Execute the query"
   ]
  },
  {
   "cell_type": "markdown",
   "metadata": {},
   "source": [
    "We are now ready to receive the user's input, which is then processed the same way as the dataset was so that the matching with the vocabulary tokens will be possible."
   ]
  },
  {
   "cell_type": "code",
   "execution_count": 11,
   "metadata": {},
   "outputs": [
    {
     "name": "stdout",
     "output_type": "stream",
     "text": [
      "Insert your query string: Survival games\n"
     ]
    }
   ],
   "source": [
    "query = input(\"Insert your query string: \")"
   ]
  },
  {
   "cell_type": "code",
   "execution_count": 12,
   "metadata": {},
   "outputs": [],
   "source": [
    "cleanQString = fun.cleanQuery(query)"
   ]
  },
  {
   "cell_type": "code",
   "execution_count": 13,
   "metadata": {},
   "outputs": [
    {
     "data": {
      "text/plain": [
       "['surviv', 'game']"
      ]
     },
     "execution_count": 13,
     "metadata": {},
     "output_type": "execute_result"
    }
   ],
   "source": [
    "cleanQString"
   ]
  },
  {
   "cell_type": "markdown",
   "metadata": {},
   "source": [
    "Finally we made our new dataset containing three columns BookTitle, Plot and Url. Before creating the dataset we defined a list containing all the documents containing the words in the clean query we have given as input. This work is done by taking the term ids in the inverted list and the term ids associated with the clean query. Once we have obtained the intersection list, we append each of its rows in the new dataset containing plot, booktitle, and url of the document in which the word of the clean query is present."
   ]
  },
  {
   "cell_type": "code",
   "execution_count": 24,
   "metadata": {},
   "outputs": [],
   "source": [
    "new_dataset = fun.search_engine1(cleanQString, vocabulary, df, inv_lst).head(10)"
   ]
  },
  {
   "cell_type": "code",
   "execution_count": 25,
   "metadata": {},
   "outputs": [
    {
     "data": {
      "text/html": [
       "<div>\n",
       "<style scoped>\n",
       "    .dataframe tbody tr th:only-of-type {\n",
       "        vertical-align: middle;\n",
       "    }\n",
       "\n",
       "    .dataframe tbody tr th {\n",
       "        vertical-align: top;\n",
       "    }\n",
       "\n",
       "    .dataframe thead th {\n",
       "        text-align: right;\n",
       "    }\n",
       "</style>\n",
       "<table border=\"1\" class=\"dataframe\">\n",
       "  <thead>\n",
       "    <tr style=\"text-align: right;\">\n",
       "      <th></th>\n",
       "      <th>bookTitle</th>\n",
       "      <th>Plot</th>\n",
       "      <th>Url</th>\n",
       "    </tr>\n",
       "  </thead>\n",
       "  <tbody>\n",
       "    <tr>\n",
       "      <th>0</th>\n",
       "      <td>The Hunger Games</td>\n",
       "      <td>Could you survive on your own in the wild, wit...</td>\n",
       "      <td>https://www.goodreads.com/book/show/2767052-th...</td>\n",
       "    </tr>\n",
       "    <tr>\n",
       "      <th>1</th>\n",
       "      <td>A Life Once Lived</td>\n",
       "      <td>Waverly Jones is always game to try something ...</td>\n",
       "      <td>https://www.goodreads.com/book/show/36463950-a...</td>\n",
       "    </tr>\n",
       "    <tr>\n",
       "      <th>2</th>\n",
       "      <td>The Gender Game</td>\n",
       "      <td>For fans of The Hunger Games and Divergent com...</td>\n",
       "      <td>https://www.goodreads.com/book/show/31131467-t...</td>\n",
       "    </tr>\n",
       "    <tr>\n",
       "      <th>3</th>\n",
       "      <td>Silence is Golden</td>\n",
       "      <td>Silent. Cold. Chiselled perfection. That is Ri...</td>\n",
       "      <td>https://www.goodreads.com/book/show/31367949-s...</td>\n",
       "    </tr>\n",
       "    <tr>\n",
       "      <th>4</th>\n",
       "      <td>Akarnae</td>\n",
       "      <td>With just one step, sixteen-year-old Alexandra...</td>\n",
       "      <td>https://www.goodreads.com/book/show/23569787-a...</td>\n",
       "    </tr>\n",
       "    <tr>\n",
       "      <th>5</th>\n",
       "      <td>In the Dark</td>\n",
       "      <td>A secluded mountain lodge. The perfect getaway...</td>\n",
       "      <td>https://www.goodreads.com/book/show/44527037-i...</td>\n",
       "    </tr>\n",
       "    <tr>\n",
       "      <th>6</th>\n",
       "      <td>Forbidden Blood</td>\n",
       "      <td>In a dark world where vampires exist and where...</td>\n",
       "      <td>https://www.goodreads.com/book/show/10992270-f...</td>\n",
       "    </tr>\n",
       "    <tr>\n",
       "      <th>7</th>\n",
       "      <td>Hunter's Run</td>\n",
       "      <td>Like so many others, Ramon Espejo ran from the...</td>\n",
       "      <td>https://www.goodreads.com/book/show/1282266.Hu...</td>\n",
       "    </tr>\n",
       "    <tr>\n",
       "      <th>8</th>\n",
       "      <td>Fire &amp; Blood</td>\n",
       "      <td>With all the fire and fury fans have come to e...</td>\n",
       "      <td>https://www.goodreads.com/book/show/39943621-f...</td>\n",
       "    </tr>\n",
       "    <tr>\n",
       "      <th>9</th>\n",
       "      <td>Red Sparrow</td>\n",
       "      <td>In the grand spy-tale tradition of John le Car...</td>\n",
       "      <td>https://www.goodreads.com/book/show/15803037-r...</td>\n",
       "    </tr>\n",
       "  </tbody>\n",
       "</table>\n",
       "</div>"
      ],
      "text/plain": [
       "           bookTitle                                               Plot  \\\n",
       "0   The Hunger Games  Could you survive on your own in the wild, wit...   \n",
       "1  A Life Once Lived  Waverly Jones is always game to try something ...   \n",
       "2    The Gender Game  For fans of The Hunger Games and Divergent com...   \n",
       "3  Silence is Golden  Silent. Cold. Chiselled perfection. That is Ri...   \n",
       "4            Akarnae  With just one step, sixteen-year-old Alexandra...   \n",
       "5        In the Dark  A secluded mountain lodge. The perfect getaway...   \n",
       "6    Forbidden Blood  In a dark world where vampires exist and where...   \n",
       "7       Hunter's Run  Like so many others, Ramon Espejo ran from the...   \n",
       "8       Fire & Blood  With all the fire and fury fans have come to e...   \n",
       "9        Red Sparrow  In the grand spy-tale tradition of John le Car...   \n",
       "\n",
       "                                                 Url  \n",
       "0  https://www.goodreads.com/book/show/2767052-th...  \n",
       "1  https://www.goodreads.com/book/show/36463950-a...  \n",
       "2  https://www.goodreads.com/book/show/31131467-t...  \n",
       "3  https://www.goodreads.com/book/show/31367949-s...  \n",
       "4  https://www.goodreads.com/book/show/23569787-a...  \n",
       "5  https://www.goodreads.com/book/show/44527037-i...  \n",
       "6  https://www.goodreads.com/book/show/10992270-f...  \n",
       "7  https://www.goodreads.com/book/show/1282266.Hu...  \n",
       "8  https://www.goodreads.com/book/show/39943621-f...  \n",
       "9  https://www.goodreads.com/book/show/15803037-r...  "
      ]
     },
     "execution_count": 25,
     "metadata": {},
     "output_type": "execute_result"
    }
   ],
   "source": [
    "new_dataset"
   ]
  },
  {
   "cell_type": "markdown",
   "metadata": {},
   "source": [
    "### 2.2 Conjunctive query & Ranking score"
   ]
  },
  {
   "cell_type": "markdown",
   "metadata": {},
   "source": [
    "#### 2.2.1) Inverted index"
   ]
  },
  {
   "cell_type": "markdown",
   "metadata": {},
   "source": [
    "In the second part of the exercise we use the clean dataset obtained in the beginning and the vocabulary we just created.\n",
    "\n",
    "We start with updating the inverted list, which this time will associate a list of tuples to each term_id (that is, the numeric value associated to the keys present in the vocabulary). Each tuple contains the document in which that term is present and the tf_idf value for that term_id in that document.\n",
    "\n",
    "There are different steps required to get the tf_idf value. Firstly, we get the term frequency by simply counting the amount of times each term appears in each document. Next, we calculate the idf (inverse document frequency) as a way to give priority to those terms which are found less commonly in the document set. As the name suggests, this is an inverse frequency. Finally, we combine the two in the tf_idf, which is nothing more than their product."
   ]
  },
  {
   "cell_type": "code",
   "execution_count": 16,
   "metadata": {},
   "outputs": [],
   "source": [
    "inv_lst2 = fun.inverted_list_2(vocabulary, df1)"
   ]
  },
  {
   "cell_type": "markdown",
   "metadata": {},
   "source": [
    "#### 2.2.2) Execute the query"
   ]
  },
  {
   "cell_type": "markdown",
   "metadata": {},
   "source": [
    "Next, we make a list of dictionaries. Each dictionary is associated with the i-th row of the clean dataset. Each dictionary contains as keys the tokens within the plot of the i-th row and as values for each key the tf_idf."
   ]
  },
  {
   "cell_type": "code",
   "execution_count": 17,
   "metadata": {},
   "outputs": [],
   "source": [
    "documents = fun.create_documents_list(df1, inv_lst2, vocabulary)"
   ]
  },
  {
   "cell_type": "markdown",
   "metadata": {},
   "source": [
    "We then define a score through the cosine similarity. In particular, for each document belonging to the document_list we calculate the cosine similarity between the clean query put in input and the i-th document in the document list. The cosine similarity can be zero or a specific value. It is always different from zero if at least one clean query token is present from the i-th document. Once the cosine similarity is applied, we return a list containing for each document the cosine similarity with respect to the clean query."
   ]
  },
  {
   "cell_type": "code",
   "execution_count": 18,
   "metadata": {},
   "outputs": [],
   "source": [
    "top_k_documents = fun.similarity_score(df1, inv_lst2, vocabulary, cleanQString, documents)"
   ]
  },
  {
   "cell_type": "markdown",
   "metadata": {},
   "source": [
    "Finally we apply the heapq algorithm to show the top 10 documents, sorted in ascending order of the cosine similarity."
   ]
  },
  {
   "cell_type": "code",
   "execution_count": 19,
   "metadata": {},
   "outputs": [],
   "source": [
    "show_top_k_documents = fun.heap_k_documents(top_k_documents, 10)"
   ]
  },
  {
   "cell_type": "markdown",
   "metadata": {},
   "source": [
    "We can now run the second search engine, which is an improved version of the previous one as it takes into consideration not only the number of words in the query that are found in the plots, but also how often those words are mentioned. This makes the search engine more accurate in identifying books that are relevant given a certain query, which is in line with our final goals.\n",
    "\n",
    "The final dataset obtained with our second search engine is found below."
   ]
  },
  {
   "cell_type": "code",
   "execution_count": 21,
   "metadata": {},
   "outputs": [],
   "source": [
    "new_df = fun.dataset_search_engine2(show_top_k_documents, df)"
   ]
  },
  {
   "cell_type": "code",
   "execution_count": 22,
   "metadata": {},
   "outputs": [
    {
     "data": {
      "text/html": [
       "<div>\n",
       "<style scoped>\n",
       "    .dataframe tbody tr th:only-of-type {\n",
       "        vertical-align: middle;\n",
       "    }\n",
       "\n",
       "    .dataframe tbody tr th {\n",
       "        vertical-align: top;\n",
       "    }\n",
       "\n",
       "    .dataframe thead th {\n",
       "        text-align: right;\n",
       "    }\n",
       "</style>\n",
       "<table border=\"1\" class=\"dataframe\">\n",
       "  <thead>\n",
       "    <tr style=\"text-align: right;\">\n",
       "      <th></th>\n",
       "      <th>bookTitle</th>\n",
       "      <th>Plot</th>\n",
       "      <th>Url</th>\n",
       "      <th>Similarity</th>\n",
       "    </tr>\n",
       "  </thead>\n",
       "  <tbody>\n",
       "    <tr>\n",
       "      <th>0</th>\n",
       "      <td>Halo: The Fall of Reach, The Flood, First Strike</td>\n",
       "      <td>\"The official novels of the award-winning Xbox...</td>\n",
       "      <td>https://www.goodreads.com/book/show/136179.Halo</td>\n",
       "      <td>0.27</td>\n",
       "    </tr>\n",
       "    <tr>\n",
       "      <th>1</th>\n",
       "      <td>Devil's Own</td>\n",
       "      <td>After surviving slavery, Aiden MacAlpin has no...</td>\n",
       "      <td>https://www.goodreads.com/book/show/8705483-de...</td>\n",
       "      <td>0.21</td>\n",
       "    </tr>\n",
       "    <tr>\n",
       "      <th>2</th>\n",
       "      <td>The Most Dangerous Game</td>\n",
       "      <td>The Most Dangerous Game features a big-game hu...</td>\n",
       "      <td>https://www.goodreads.com/book/show/157076.The...</td>\n",
       "      <td>0.21</td>\n",
       "    </tr>\n",
       "    <tr>\n",
       "      <th>3</th>\n",
       "      <td>The Forbidden Game</td>\n",
       "      <td>When Jenny buys a game for her boyfriend, Tom,...</td>\n",
       "      <td>https://www.goodreads.com/book/show/7100490-th...</td>\n",
       "      <td>0.19</td>\n",
       "    </tr>\n",
       "    <tr>\n",
       "      <th>4</th>\n",
       "      <td>Homestuck</td>\n",
       "      <td>It's a story about some kids who are friends o...</td>\n",
       "      <td>https://www.goodreads.com/book/show/20869872-h...</td>\n",
       "      <td>0.18</td>\n",
       "    </tr>\n",
       "    <tr>\n",
       "      <th>5</th>\n",
       "      <td>The Micro Kids: An 80s Adventure with ZX Spect...</td>\n",
       "      <td>\\nIt is November 1983 and young Billy Twist an...</td>\n",
       "      <td>https://www.goodreads.com/book/show/43672614-t...</td>\n",
       "      <td>0.16</td>\n",
       "    </tr>\n",
       "    <tr>\n",
       "      <th>6</th>\n",
       "      <td>Nerve</td>\n",
       "      <td>ARE YOU PLAYING THE GAME OR IS THE GAME PLAYIN...</td>\n",
       "      <td>https://www.goodreads.com/book/show/13088498-n...</td>\n",
       "      <td>0.16</td>\n",
       "    </tr>\n",
       "    <tr>\n",
       "      <th>7</th>\n",
       "      <td>The Last Man Alive</td>\n",
       "      <td>The adventures of a group who survived a poiso...</td>\n",
       "      <td>https://www.goodreads.com/book/show/888947.The...</td>\n",
       "      <td>0.15</td>\n",
       "    </tr>\n",
       "    <tr>\n",
       "      <th>8</th>\n",
       "      <td>In a Pit with a Lion on a Snowy Day: How to Su...</td>\n",
       "      <td>In a Pit with a Lion on a Snowy Day: How to Su...</td>\n",
       "      <td>https://www.goodreads.com/book/show/114316.In_...</td>\n",
       "      <td>0.15</td>\n",
       "    </tr>\n",
       "    <tr>\n",
       "      <th>9</th>\n",
       "      <td>Yu-Gi-Oh!, Vol. 1: The Millenium Puzzle</td>\n",
       "      <td>10th grader Yugi spent most of his time alone ...</td>\n",
       "      <td>https://www.goodreads.com/book/show/828140.Yu_...</td>\n",
       "      <td>0.15</td>\n",
       "    </tr>\n",
       "  </tbody>\n",
       "</table>\n",
       "</div>"
      ],
      "text/plain": [
       "                                           bookTitle  \\\n",
       "0   Halo: The Fall of Reach, The Flood, First Strike   \n",
       "1                                        Devil's Own   \n",
       "2                            The Most Dangerous Game   \n",
       "3                                 The Forbidden Game   \n",
       "4                                          Homestuck   \n",
       "5  The Micro Kids: An 80s Adventure with ZX Spect...   \n",
       "6                                              Nerve   \n",
       "7                                 The Last Man Alive   \n",
       "8  In a Pit with a Lion on a Snowy Day: How to Su...   \n",
       "9            Yu-Gi-Oh!, Vol. 1: The Millenium Puzzle   \n",
       "\n",
       "                                                Plot  \\\n",
       "0  \"The official novels of the award-winning Xbox...   \n",
       "1  After surviving slavery, Aiden MacAlpin has no...   \n",
       "2  The Most Dangerous Game features a big-game hu...   \n",
       "3  When Jenny buys a game for her boyfriend, Tom,...   \n",
       "4  It's a story about some kids who are friends o...   \n",
       "5  \\nIt is November 1983 and young Billy Twist an...   \n",
       "6  ARE YOU PLAYING THE GAME OR IS THE GAME PLAYIN...   \n",
       "7  The adventures of a group who survived a poiso...   \n",
       "8  In a Pit with a Lion on a Snowy Day: How to Su...   \n",
       "9  10th grader Yugi spent most of his time alone ...   \n",
       "\n",
       "                                                 Url  Similarity  \n",
       "0    https://www.goodreads.com/book/show/136179.Halo        0.27  \n",
       "1  https://www.goodreads.com/book/show/8705483-de...        0.21  \n",
       "2  https://www.goodreads.com/book/show/157076.The...        0.21  \n",
       "3  https://www.goodreads.com/book/show/7100490-th...        0.19  \n",
       "4  https://www.goodreads.com/book/show/20869872-h...        0.18  \n",
       "5  https://www.goodreads.com/book/show/43672614-t...        0.16  \n",
       "6  https://www.goodreads.com/book/show/13088498-n...        0.16  \n",
       "7  https://www.goodreads.com/book/show/888947.The...        0.15  \n",
       "8  https://www.goodreads.com/book/show/114316.In_...        0.15  \n",
       "9  https://www.goodreads.com/book/show/828140.Yu_...        0.15  "
      ]
     },
     "execution_count": 22,
     "metadata": {},
     "output_type": "execute_result"
    }
   ],
   "source": [
    "new_df"
   ]
  },
  {
   "cell_type": "markdown",
   "metadata": {},
   "source": [
    "## 3) Define a new score"
   ]
  },
  {
   "cell_type": "markdown",
   "metadata": {},
   "source": [
    "We now want to further improve our search engine, this time by taking into account multiple variables.\n",
    "\n",
    "Firstly, we chose to expand the similarity score to take into account also the book title and name of the author. This will ensure finding more relevant results.\n",
    "\n",
    "We also defined a second score, that measures the \"popularity\" of a book by taking in consideration how many ratings a book has and what is it's rating value. This way, books that have been read by more users or are more appreciated by readers are shown before books that, although they may have a higher similarity score based on the query, are more obscure reads."
   ]
  },
  {
   "cell_type": "markdown",
   "metadata": {},
   "source": [
    "As usual, we firstly look at the dataset we will be working with."
   ]
  },
  {
   "cell_type": "code",
   "execution_count": 3,
   "metadata": {},
   "outputs": [
    {
     "data": {
      "text/html": [
       "<div>\n",
       "<style scoped>\n",
       "    .dataframe tbody tr th:only-of-type {\n",
       "        vertical-align: middle;\n",
       "    }\n",
       "\n",
       "    .dataframe tbody tr th {\n",
       "        vertical-align: top;\n",
       "    }\n",
       "\n",
       "    .dataframe thead th {\n",
       "        text-align: right;\n",
       "    }\n",
       "</style>\n",
       "<table border=\"1\" class=\"dataframe\">\n",
       "  <thead>\n",
       "    <tr style=\"text-align: right;\">\n",
       "      <th></th>\n",
       "      <th>bookTitle</th>\n",
       "      <th>bookSeries</th>\n",
       "      <th>bookAuthors</th>\n",
       "      <th>ratingValue</th>\n",
       "      <th>ratingCount</th>\n",
       "      <th>reviewCount</th>\n",
       "      <th>Plot</th>\n",
       "      <th>NumberofPages</th>\n",
       "      <th>Published</th>\n",
       "      <th>Characters</th>\n",
       "      <th>Setting</th>\n",
       "      <th>Url</th>\n",
       "    </tr>\n",
       "  </thead>\n",
       "  <tbody>\n",
       "    <tr>\n",
       "      <th>0</th>\n",
       "      <td>The Hunger Games</td>\n",
       "      <td>(The Hunger Games #1)</td>\n",
       "      <td>Suzanne Collins</td>\n",
       "      <td>4.33</td>\n",
       "      <td>6413302</td>\n",
       "      <td>172615</td>\n",
       "      <td>Could you survive on your own in the wild, wit...</td>\n",
       "      <td>374</td>\n",
       "      <td>September 14th 2008</td>\n",
       "      <td>Katniss Everdeen, Peeta Mellark, Cato (Hunger ...</td>\n",
       "      <td>District 12, Panem, Capitol, Panem, Panem</td>\n",
       "      <td>https://www.goodreads.com/book/show/2767052-th...</td>\n",
       "    </tr>\n",
       "    <tr>\n",
       "      <th>1</th>\n",
       "      <td>Harry Potter and the Order of the Phoenix</td>\n",
       "      <td>(Harry Potter #5)</td>\n",
       "      <td>J.K. Rowling</td>\n",
       "      <td>4.50</td>\n",
       "      <td>2527001</td>\n",
       "      <td>42768</td>\n",
       "      <td>There is a door at the end of a silent corrido...</td>\n",
       "      <td>870</td>\n",
       "      <td>September 2004 by</td>\n",
       "      <td>Sirius Black, Draco Malfoy, Ron Weasley, Petun...</td>\n",
       "      <td>Hogwarts School of Witchcraft and Wizardry, Lo...</td>\n",
       "      <td>https://www.goodreads.com/book/show/2.Harry_Po...</td>\n",
       "    </tr>\n",
       "    <tr>\n",
       "      <th>2</th>\n",
       "      <td>To Kill a Mockingbird</td>\n",
       "      <td>(To Kill a Mockingbird)</td>\n",
       "      <td>Harper Lee</td>\n",
       "      <td>4.28</td>\n",
       "      <td>4530963</td>\n",
       "      <td>91866</td>\n",
       "      <td>The unforgettable novel of a childhood in a sl...</td>\n",
       "      <td>324</td>\n",
       "      <td>May 23rd 2006</td>\n",
       "      <td>Scout Finch, Atticus Finch, Jem Finch, Arthur ...</td>\n",
       "      <td>Maycomb, Alabama</td>\n",
       "      <td>https://www.goodreads.com/book/show/2657.To_Ki...</td>\n",
       "    </tr>\n",
       "    <tr>\n",
       "      <th>3</th>\n",
       "      <td>Pride and Prejudice</td>\n",
       "      <td></td>\n",
       "      <td>Jane Austen</td>\n",
       "      <td>4.26</td>\n",
       "      <td>3020392</td>\n",
       "      <td>67869</td>\n",
       "      <td>Alternate cover edition of ISBN 9780679783268S...</td>\n",
       "      <td>279</td>\n",
       "      <td>October 10th 2000</td>\n",
       "      <td>Mr. Bennet, Mrs. Bennet, Jane Bennet, Elizabet...</td>\n",
       "      <td>United Kingdom, Derbyshire, England, England, ...</td>\n",
       "      <td>https://www.goodreads.com/book/show/1885.Pride...</td>\n",
       "    </tr>\n",
       "    <tr>\n",
       "      <th>4</th>\n",
       "      <td>Twilight</td>\n",
       "      <td>(The Twilight Saga #1)</td>\n",
       "      <td>Stephenie Meyer</td>\n",
       "      <td>3.60</td>\n",
       "      <td>4993492</td>\n",
       "      <td>104954</td>\n",
       "      <td>About three things I was absolutely positive.F...</td>\n",
       "      <td>501</td>\n",
       "      <td>September 6th 2006</td>\n",
       "      <td>Edward Cullen, Jacob Black, Laurent, Renee, Be...</td>\n",
       "      <td>Forks, Washington, Phoenix, Arizona, Washingto...</td>\n",
       "      <td>https://www.goodreads.com/book/show/41865.Twil...</td>\n",
       "    </tr>\n",
       "  </tbody>\n",
       "</table>\n",
       "</div>"
      ],
      "text/plain": [
       "                                   bookTitle               bookSeries  \\\n",
       "0                           The Hunger Games    (The Hunger Games #1)   \n",
       "1  Harry Potter and the Order of the Phoenix        (Harry Potter #5)   \n",
       "2                      To Kill a Mockingbird  (To Kill a Mockingbird)   \n",
       "3                        Pride and Prejudice                            \n",
       "4                                   Twilight   (The Twilight Saga #1)   \n",
       "\n",
       "       bookAuthors  ratingValue  ratingCount  reviewCount  \\\n",
       "0  Suzanne Collins         4.33      6413302       172615   \n",
       "1     J.K. Rowling         4.50      2527001        42768   \n",
       "2       Harper Lee         4.28      4530963        91866   \n",
       "3      Jane Austen         4.26      3020392        67869   \n",
       "4  Stephenie Meyer         3.60      4993492       104954   \n",
       "\n",
       "                                                Plot NumberofPages  \\\n",
       "0  Could you survive on your own in the wild, wit...           374   \n",
       "1  There is a door at the end of a silent corrido...           870   \n",
       "2  The unforgettable novel of a childhood in a sl...           324   \n",
       "3  Alternate cover edition of ISBN 9780679783268S...           279   \n",
       "4  About three things I was absolutely positive.F...           501   \n",
       "\n",
       "             Published                                         Characters  \\\n",
       "0  September 14th 2008  Katniss Everdeen, Peeta Mellark, Cato (Hunger ...   \n",
       "1    September 2004 by  Sirius Black, Draco Malfoy, Ron Weasley, Petun...   \n",
       "2        May 23rd 2006  Scout Finch, Atticus Finch, Jem Finch, Arthur ...   \n",
       "3    October 10th 2000  Mr. Bennet, Mrs. Bennet, Jane Bennet, Elizabet...   \n",
       "4   September 6th 2006  Edward Cullen, Jacob Black, Laurent, Renee, Be...   \n",
       "\n",
       "                                             Setting  \\\n",
       "0          District 12, Panem, Capitol, Panem, Panem   \n",
       "1  Hogwarts School of Witchcraft and Wizardry, Lo...   \n",
       "2                                   Maycomb, Alabama   \n",
       "3  United Kingdom, Derbyshire, England, England, ...   \n",
       "4  Forks, Washington, Phoenix, Arizona, Washingto...   \n",
       "\n",
       "                                                 Url  \n",
       "0  https://www.goodreads.com/book/show/2767052-th...  \n",
       "1  https://www.goodreads.com/book/show/2.Harry_Po...  \n",
       "2  https://www.goodreads.com/book/show/2657.To_Ki...  \n",
       "3  https://www.goodreads.com/book/show/1885.Pride...  \n",
       "4  https://www.goodreads.com/book/show/41865.Twil...  "
      ]
     },
     "execution_count": 3,
     "metadata": {},
     "output_type": "execute_result"
    }
   ],
   "source": [
    "df.head()"
   ]
  },
  {
   "cell_type": "markdown",
   "metadata": {},
   "source": [
    "We then proceed to create a copy of this main dataset, to avoid modifing the original information."
   ]
  },
  {
   "cell_type": "code",
   "execution_count": 4,
   "metadata": {},
   "outputs": [],
   "source": [
    "df1 = df.copy()"
   ]
  },
  {
   "cell_type": "markdown",
   "metadata": {},
   "source": [
    "Next, to create our new score based on bookTitle, bookAuthors and Plot, we tokenize their values and initialize the new vocabulary based on those three columns."
   ]
  },
  {
   "cell_type": "code",
   "execution_count": 5,
   "metadata": {},
   "outputs": [],
   "source": [
    "df1 = fun.cleaning_value_columns(df1)\n",
    "vocabulary2 = fun.create_newVocabulary(df1)"
   ]
  },
  {
   "cell_type": "markdown",
   "metadata": {},
   "source": [
    "We chose to save the dictionary as a json file, because its the structure behaves similarly to a dictionary used in python. Therefore, we create and then open this json file."
   ]
  },
  {
   "cell_type": "code",
   "execution_count": 6,
   "metadata": {},
   "outputs": [],
   "source": [
    "a_file = open(\"vocabulary2.json\", \"w\")\n",
    "a_file = json.dump(vocabulary2, a_file)\n",
    "a_file = open(\"vocabulary2.json\", \"r\")\n",
    "vocabulary2 = json.load(a_file)"
   ]
  },
  {
   "cell_type": "markdown",
   "metadata": {},
   "source": [
    "### 3.1 New search engine - step 1"
   ]
  },
  {
   "cell_type": "markdown",
   "metadata": {},
   "source": [
    "We are now ready to receive the user's input, which is again processed to make matching with the clean dataset possible."
   ]
  },
  {
   "cell_type": "code",
   "execution_count": 7,
   "metadata": {},
   "outputs": [
    {
     "name": "stdout",
     "output_type": "stream",
     "text": [
      "Insert your query string: survival games\n"
     ]
    }
   ],
   "source": [
    "query = input(\"Insert your query string: \")"
   ]
  },
  {
   "cell_type": "code",
   "execution_count": 8,
   "metadata": {},
   "outputs": [
    {
     "data": {
      "text/plain": [
       "['surviv', 'game']"
      ]
     },
     "execution_count": 8,
     "metadata": {},
     "output_type": "execute_result"
    }
   ],
   "source": [
    "cleanQString = fun.cleanQuery(query)\n",
    "cleanQString"
   ]
  },
  {
   "cell_type": "markdown",
   "metadata": {},
   "source": [
    "Afterwards, we create the inverted list using the dictionary and execute the new search engine based on the three columns."
   ]
  },
  {
   "cell_type": "code",
   "execution_count": 15,
   "metadata": {},
   "outputs": [],
   "source": [
    "inv_lst = fun.create_inverted_list(vocabulary2)"
   ]
  },
  {
   "cell_type": "code",
   "execution_count": 16,
   "metadata": {},
   "outputs": [],
   "source": [
    "new_df = fun.search_engine1(cleanQString, vocabulary2, df, inv_lst).head(10)"
   ]
  },
  {
   "cell_type": "markdown",
   "metadata": {},
   "source": [
    "The results are shown in the following table, which lists 10 recommendations based on this first new score we have defined."
   ]
  },
  {
   "cell_type": "code",
   "execution_count": 10,
   "metadata": {},
   "outputs": [
    {
     "data": {
      "text/html": [
       "<div>\n",
       "<style scoped>\n",
       "    .dataframe tbody tr th:only-of-type {\n",
       "        vertical-align: middle;\n",
       "    }\n",
       "\n",
       "    .dataframe tbody tr th {\n",
       "        vertical-align: top;\n",
       "    }\n",
       "\n",
       "    .dataframe thead th {\n",
       "        text-align: right;\n",
       "    }\n",
       "</style>\n",
       "<table border=\"1\" class=\"dataframe\">\n",
       "  <thead>\n",
       "    <tr style=\"text-align: right;\">\n",
       "      <th></th>\n",
       "      <th>bookTitle</th>\n",
       "      <th>Plot</th>\n",
       "      <th>Url</th>\n",
       "      <th>New-Score</th>\n",
       "    </tr>\n",
       "  </thead>\n",
       "  <tbody>\n",
       "    <tr>\n",
       "      <th>0</th>\n",
       "      <td>The Hunger Games</td>\n",
       "      <td>Could you survive on your own in the wild, wit...</td>\n",
       "      <td>https://www.goodreads.com/book/show/2767052-th...</td>\n",
       "      <td>2.28</td>\n",
       "    </tr>\n",
       "    <tr>\n",
       "      <th>1</th>\n",
       "      <td>Gerald's Game</td>\n",
       "      <td>Stephen King cranks up the suspense in a diffe...</td>\n",
       "      <td>https://www.goodreads.com/book/show/32692.Gera...</td>\n",
       "      <td>1.59</td>\n",
       "    </tr>\n",
       "    <tr>\n",
       "      <th>2</th>\n",
       "      <td>Kade's Game</td>\n",
       "      <td>We never go after what we want without circlin...</td>\n",
       "      <td>https://www.goodreads.com/book/show/22934219-k...</td>\n",
       "      <td>1.57</td>\n",
       "    </tr>\n",
       "    <tr>\n",
       "      <th>3</th>\n",
       "      <td>When the Game Was Ours</td>\n",
       "      <td>From the moment these two players took the cou...</td>\n",
       "      <td>https://www.goodreads.com/book/show/40624439-w...</td>\n",
       "      <td>1.53</td>\n",
       "    </tr>\n",
       "    <tr>\n",
       "      <th>4</th>\n",
       "      <td>Ender's Game</td>\n",
       "      <td>Andrew \"Ender\" Wiggin thinks he is playing com...</td>\n",
       "      <td>https://www.goodreads.com/book/show/375802.End...</td>\n",
       "      <td>1.53</td>\n",
       "    </tr>\n",
       "    <tr>\n",
       "      <th>5</th>\n",
       "      <td>The Crown's Game</td>\n",
       "      <td>Vika Andreyeva can summon the snow and turn as...</td>\n",
       "      <td>https://www.goodreads.com/book/show/26156203-t...</td>\n",
       "      <td>1.51</td>\n",
       "    </tr>\n",
       "    <tr>\n",
       "      <th>6</th>\n",
       "      <td>A Game of You</td>\n",
       "      <td>Take an apartment house, mix in a drag queen, ...</td>\n",
       "      <td>https://www.goodreads.com/book/show/25102.A_Ga...</td>\n",
       "      <td>1.51</td>\n",
       "    </tr>\n",
       "    <tr>\n",
       "      <th>7</th>\n",
       "      <td>The Traitor's Game</td>\n",
       "      <td>Nothing is as it seems in the kingdom of Antor...</td>\n",
       "      <td>https://www.goodreads.com/book/show/30809677-t...</td>\n",
       "      <td>1.50</td>\n",
       "    </tr>\n",
       "    <tr>\n",
       "      <th>8</th>\n",
       "      <td>Game</td>\n",
       "      <td>Billy grinned. “Oh, New York,” he whispered. “...</td>\n",
       "      <td>https://www.goodreads.com/book/show/15790833-game</td>\n",
       "      <td>1.50</td>\n",
       "    </tr>\n",
       "    <tr>\n",
       "      <th>9</th>\n",
       "      <td>The Game</td>\n",
       "      <td>Widely acknowledged as the best hockey book ev...</td>\n",
       "      <td>https://www.goodreads.com/book/show/504405.The...</td>\n",
       "      <td>1.50</td>\n",
       "    </tr>\n",
       "  </tbody>\n",
       "</table>\n",
       "</div>"
      ],
      "text/plain": [
       "                bookTitle                                               Plot  \\\n",
       "0        The Hunger Games  Could you survive on your own in the wild, wit...   \n",
       "1           Gerald's Game  Stephen King cranks up the suspense in a diffe...   \n",
       "2             Kade's Game  We never go after what we want without circlin...   \n",
       "3  When the Game Was Ours  From the moment these two players took the cou...   \n",
       "4            Ender's Game  Andrew \"Ender\" Wiggin thinks he is playing com...   \n",
       "5        The Crown's Game  Vika Andreyeva can summon the snow and turn as...   \n",
       "6           A Game of You  Take an apartment house, mix in a drag queen, ...   \n",
       "7      The Traitor's Game  Nothing is as it seems in the kingdom of Antor...   \n",
       "8                    Game  Billy grinned. “Oh, New York,” he whispered. “...   \n",
       "9                The Game  Widely acknowledged as the best hockey book ev...   \n",
       "\n",
       "                                                 Url  New-Score  \n",
       "0  https://www.goodreads.com/book/show/2767052-th...       2.28  \n",
       "1  https://www.goodreads.com/book/show/32692.Gera...       1.59  \n",
       "2  https://www.goodreads.com/book/show/22934219-k...       1.57  \n",
       "3  https://www.goodreads.com/book/show/40624439-w...       1.53  \n",
       "4  https://www.goodreads.com/book/show/375802.End...       1.53  \n",
       "5  https://www.goodreads.com/book/show/26156203-t...       1.51  \n",
       "6  https://www.goodreads.com/book/show/25102.A_Ga...       1.51  \n",
       "7  https://www.goodreads.com/book/show/30809677-t...       1.50  \n",
       "8  https://www.goodreads.com/book/show/15790833-game       1.50  \n",
       "9  https://www.goodreads.com/book/show/504405.The...       1.50  "
      ]
     },
     "execution_count": 10,
     "metadata": {},
     "output_type": "execute_result"
    }
   ],
   "source": [
    "new_df"
   ]
  },
  {
   "cell_type": "markdown",
   "metadata": {},
   "source": [
    "### 3.2 New search engine - step 2"
   ]
  },
  {
   "cell_type": "markdown",
   "metadata": {},
   "source": [
    "Finally, we further broaden our score, by including the \"popularity\" score previously mentioned. This is done by boosting the final score of each book that has a similarity score > 0 by:\n",
    "* 1 point if the average rating value is > 3.5\n",
    "* 1 point if the rating count is over 3 million"
   ]
  },
  {
   "cell_type": "code",
   "execution_count": 9,
   "metadata": {},
   "outputs": [],
   "source": [
    "new_df = fun.newsearch_engine2(vocabulary2, df, df1, cleanQString, 10)"
   ]
  },
  {
   "cell_type": "code",
   "execution_count": 10,
   "metadata": {},
   "outputs": [
    {
     "data": {
      "text/html": [
       "<div>\n",
       "<style scoped>\n",
       "    .dataframe tbody tr th:only-of-type {\n",
       "        vertical-align: middle;\n",
       "    }\n",
       "\n",
       "    .dataframe tbody tr th {\n",
       "        vertical-align: top;\n",
       "    }\n",
       "\n",
       "    .dataframe thead th {\n",
       "        text-align: right;\n",
       "    }\n",
       "</style>\n",
       "<table border=\"1\" class=\"dataframe\">\n",
       "  <thead>\n",
       "    <tr style=\"text-align: right;\">\n",
       "      <th></th>\n",
       "      <th>bookTitle</th>\n",
       "      <th>Plot</th>\n",
       "      <th>Url</th>\n",
       "      <th>New-Score</th>\n",
       "    </tr>\n",
       "  </thead>\n",
       "  <tbody>\n",
       "    <tr>\n",
       "      <th>0</th>\n",
       "      <td>The Hunger Games</td>\n",
       "      <td>Could you survive on your own in the wild, wit...</td>\n",
       "      <td>https://www.goodreads.com/book/show/2767052-th...</td>\n",
       "      <td>2.28</td>\n",
       "    </tr>\n",
       "    <tr>\n",
       "      <th>1</th>\n",
       "      <td>Gerald's Game</td>\n",
       "      <td>Stephen King cranks up the suspense in a diffe...</td>\n",
       "      <td>https://www.goodreads.com/book/show/32692.Gera...</td>\n",
       "      <td>1.59</td>\n",
       "    </tr>\n",
       "    <tr>\n",
       "      <th>2</th>\n",
       "      <td>Kade's Game</td>\n",
       "      <td>We never go after what we want without circlin...</td>\n",
       "      <td>https://www.goodreads.com/book/show/22934219-k...</td>\n",
       "      <td>1.57</td>\n",
       "    </tr>\n",
       "    <tr>\n",
       "      <th>3</th>\n",
       "      <td>When the Game Was Ours</td>\n",
       "      <td>From the moment these two players took the cou...</td>\n",
       "      <td>https://www.goodreads.com/book/show/40624439-w...</td>\n",
       "      <td>1.53</td>\n",
       "    </tr>\n",
       "    <tr>\n",
       "      <th>4</th>\n",
       "      <td>Ender's Game</td>\n",
       "      <td>Andrew \"Ender\" Wiggin thinks he is playing com...</td>\n",
       "      <td>https://www.goodreads.com/book/show/375802.End...</td>\n",
       "      <td>1.53</td>\n",
       "    </tr>\n",
       "    <tr>\n",
       "      <th>5</th>\n",
       "      <td>The Crown's Game</td>\n",
       "      <td>Vika Andreyeva can summon the snow and turn as...</td>\n",
       "      <td>https://www.goodreads.com/book/show/26156203-t...</td>\n",
       "      <td>1.51</td>\n",
       "    </tr>\n",
       "    <tr>\n",
       "      <th>6</th>\n",
       "      <td>A Game of You</td>\n",
       "      <td>Take an apartment house, mix in a drag queen, ...</td>\n",
       "      <td>https://www.goodreads.com/book/show/25102.A_Ga...</td>\n",
       "      <td>1.51</td>\n",
       "    </tr>\n",
       "    <tr>\n",
       "      <th>7</th>\n",
       "      <td>The Traitor's Game</td>\n",
       "      <td>Nothing is as it seems in the kingdom of Antor...</td>\n",
       "      <td>https://www.goodreads.com/book/show/30809677-t...</td>\n",
       "      <td>1.50</td>\n",
       "    </tr>\n",
       "    <tr>\n",
       "      <th>8</th>\n",
       "      <td>Game</td>\n",
       "      <td>Billy grinned. “Oh, New York,” he whispered. “...</td>\n",
       "      <td>https://www.goodreads.com/book/show/15790833-game</td>\n",
       "      <td>1.50</td>\n",
       "    </tr>\n",
       "    <tr>\n",
       "      <th>9</th>\n",
       "      <td>The Game</td>\n",
       "      <td>Widely acknowledged as the best hockey book ev...</td>\n",
       "      <td>https://www.goodreads.com/book/show/504405.The...</td>\n",
       "      <td>1.50</td>\n",
       "    </tr>\n",
       "  </tbody>\n",
       "</table>\n",
       "</div>"
      ],
      "text/plain": [
       "                bookTitle                                               Plot  \\\n",
       "0        The Hunger Games  Could you survive on your own in the wild, wit...   \n",
       "1           Gerald's Game  Stephen King cranks up the suspense in a diffe...   \n",
       "2             Kade's Game  We never go after what we want without circlin...   \n",
       "3  When the Game Was Ours  From the moment these two players took the cou...   \n",
       "4            Ender's Game  Andrew \"Ender\" Wiggin thinks he is playing com...   \n",
       "5        The Crown's Game  Vika Andreyeva can summon the snow and turn as...   \n",
       "6           A Game of You  Take an apartment house, mix in a drag queen, ...   \n",
       "7      The Traitor's Game  Nothing is as it seems in the kingdom of Antor...   \n",
       "8                    Game  Billy grinned. “Oh, New York,” he whispered. “...   \n",
       "9                The Game  Widely acknowledged as the best hockey book ev...   \n",
       "\n",
       "                                                 Url  New-Score  \n",
       "0  https://www.goodreads.com/book/show/2767052-th...       2.28  \n",
       "1  https://www.goodreads.com/book/show/32692.Gera...       1.59  \n",
       "2  https://www.goodreads.com/book/show/22934219-k...       1.57  \n",
       "3  https://www.goodreads.com/book/show/40624439-w...       1.53  \n",
       "4  https://www.goodreads.com/book/show/375802.End...       1.53  \n",
       "5  https://www.goodreads.com/book/show/26156203-t...       1.51  \n",
       "6  https://www.goodreads.com/book/show/25102.A_Ga...       1.51  \n",
       "7  https://www.goodreads.com/book/show/30809677-t...       1.50  \n",
       "8  https://www.goodreads.com/book/show/15790833-game       1.50  \n",
       "9  https://www.goodreads.com/book/show/504405.The...       1.50  "
      ]
     },
     "execution_count": 10,
     "metadata": {},
     "output_type": "execute_result"
    }
   ],
   "source": [
    "new_df"
   ]
  },
  {
   "cell_type": "markdown",
   "metadata": {},
   "source": [
    " ## 4) Make a nice visualization!"
   ]
  },
  {
   "cell_type": "markdown",
   "metadata": {},
   "source": [
    "For this exercise, our goal is to quantify and visualize the writers' production in terms of number of pages published. We will work in three steps to solve this exercise. In this first step, starting from the dataset obtained in exercise 1, we attain a new dataset by modifying two columns. \n",
    "\n",
    "Firstly, we delete all rows presenting null values for the column bookSeries and then transformed the bookSeries into a list containing two strings: the title of the series and the number the specific book is within that series. \n",
    "\n",
    "The second column we modified is the one regarding the date of publication. For each line we have extracted only the year of publication, disregarding day and month."
   ]
  },
  {
   "cell_type": "code",
   "execution_count": 11,
   "metadata": {},
   "outputs": [],
   "source": [
    "dataset = df.copy()\n",
    "dataset = fun.newdata(dataset)"
   ]
  },
  {
   "cell_type": "code",
   "execution_count": 12,
   "metadata": {},
   "outputs": [
    {
     "data": {
      "text/html": [
       "<div>\n",
       "<style scoped>\n",
       "    .dataframe tbody tr th:only-of-type {\n",
       "        vertical-align: middle;\n",
       "    }\n",
       "\n",
       "    .dataframe tbody tr th {\n",
       "        vertical-align: top;\n",
       "    }\n",
       "\n",
       "    .dataframe thead th {\n",
       "        text-align: right;\n",
       "    }\n",
       "</style>\n",
       "<table border=\"1\" class=\"dataframe\">\n",
       "  <thead>\n",
       "    <tr style=\"text-align: right;\">\n",
       "      <th></th>\n",
       "      <th>bookTitle</th>\n",
       "      <th>bookSeries</th>\n",
       "      <th>bookAuthors</th>\n",
       "      <th>ratingValue</th>\n",
       "      <th>ratingCount</th>\n",
       "      <th>reviewCount</th>\n",
       "      <th>Plot</th>\n",
       "      <th>NumberofPages</th>\n",
       "      <th>Published</th>\n",
       "      <th>Characters</th>\n",
       "      <th>Setting</th>\n",
       "      <th>Url</th>\n",
       "    </tr>\n",
       "  </thead>\n",
       "  <tbody>\n",
       "    <tr>\n",
       "      <th>0</th>\n",
       "      <td>The Hunger Games</td>\n",
       "      <td>[The Hunger Games , 1]</td>\n",
       "      <td>Suzanne Collins</td>\n",
       "      <td>4.33</td>\n",
       "      <td>6413302</td>\n",
       "      <td>172615</td>\n",
       "      <td>Could you survive on your own in the wild, wit...</td>\n",
       "      <td>374</td>\n",
       "      <td>[2008]</td>\n",
       "      <td>Katniss Everdeen, Peeta Mellark, Cato (Hunger ...</td>\n",
       "      <td>District 12, Panem, Capitol, Panem, Panem</td>\n",
       "      <td>https://www.goodreads.com/book/show/2767052-th...</td>\n",
       "    </tr>\n",
       "    <tr>\n",
       "      <th>1</th>\n",
       "      <td>Harry Potter and the Order of the Phoenix</td>\n",
       "      <td>[Harry Potter , 5]</td>\n",
       "      <td>J.K. Rowling</td>\n",
       "      <td>4.50</td>\n",
       "      <td>2527001</td>\n",
       "      <td>42768</td>\n",
       "      <td>There is a door at the end of a silent corrido...</td>\n",
       "      <td>870</td>\n",
       "      <td>[2004]</td>\n",
       "      <td>Sirius Black, Draco Malfoy, Ron Weasley, Petun...</td>\n",
       "      <td>Hogwarts School of Witchcraft and Wizardry, Lo...</td>\n",
       "      <td>https://www.goodreads.com/book/show/2.Harry_Po...</td>\n",
       "    </tr>\n",
       "    <tr>\n",
       "      <th>2</th>\n",
       "      <td>Twilight</td>\n",
       "      <td>[The Twilight Saga , 1]</td>\n",
       "      <td>Stephenie Meyer</td>\n",
       "      <td>3.60</td>\n",
       "      <td>4993492</td>\n",
       "      <td>104954</td>\n",
       "      <td>About three things I was absolutely positive.F...</td>\n",
       "      <td>501</td>\n",
       "      <td>[2006]</td>\n",
       "      <td>Edward Cullen, Jacob Black, Laurent, Renee, Be...</td>\n",
       "      <td>Forks, Washington, Phoenix, Arizona, Washingto...</td>\n",
       "      <td>https://www.goodreads.com/book/show/41865.Twil...</td>\n",
       "    </tr>\n",
       "    <tr>\n",
       "      <th>3</th>\n",
       "      <td>The Chronicles of Narnia</td>\n",
       "      <td>[The Chronicles of Narnia Publication Order , ...</td>\n",
       "      <td>C.S. Lewis</td>\n",
       "      <td>4.26</td>\n",
       "      <td>522287</td>\n",
       "      <td>10407</td>\n",
       "      <td>Journeys to the end of the world, fantastic cr...</td>\n",
       "      <td>767</td>\n",
       "      <td>[2002]</td>\n",
       "      <td>Polly, Aslan, Lucy Pevensie, Edmund Pevensie, ...</td>\n",
       "      <td>London, England</td>\n",
       "      <td>https://www.goodreads.com/book/show/11127.The_...</td>\n",
       "    </tr>\n",
       "    <tr>\n",
       "      <th>4</th>\n",
       "      <td>J.R.R. Tolkien 4-Book Boxed Set: The Hobbit an...</td>\n",
       "      <td>[The Lord of the Rings , 0-3]</td>\n",
       "      <td>J.R.R. Tolkien</td>\n",
       "      <td>4.60</td>\n",
       "      <td>110883</td>\n",
       "      <td>1791</td>\n",
       "      <td>This four-volume, boxed set contains J.R.R. To...</td>\n",
       "      <td>1728</td>\n",
       "      <td>[2012]</td>\n",
       "      <td>Frodo Baggins, Gandalf, Bilbo Baggins, Gollum</td>\n",
       "      <td>Middle-earth</td>\n",
       "      <td>https://www.goodreads.com/book/show/30.J_R_R_T...</td>\n",
       "    </tr>\n",
       "    <tr>\n",
       "      <th>...</th>\n",
       "      <td>...</td>\n",
       "      <td>...</td>\n",
       "      <td>...</td>\n",
       "      <td>...</td>\n",
       "      <td>...</td>\n",
       "      <td>...</td>\n",
       "      <td>...</td>\n",
       "      <td>...</td>\n",
       "      <td>...</td>\n",
       "      <td>...</td>\n",
       "      <td>...</td>\n",
       "      <td>...</td>\n",
       "    </tr>\n",
       "    <tr>\n",
       "      <th>11353</th>\n",
       "      <td>The Triplex</td>\n",
       "      <td>[Guardians , 4]</td>\n",
       "      <td>Lola St. Vil</td>\n",
       "      <td>4.40</td>\n",
       "      <td>2016</td>\n",
       "      <td>58</td>\n",
       "      <td>Love, torture, betrayalAnd a twist that will c...</td>\n",
       "      <td></td>\n",
       "      <td>[2012]</td>\n",
       "      <td></td>\n",
       "      <td></td>\n",
       "      <td>https://www.goodreads.com/book/show/16650238-t...</td>\n",
       "    </tr>\n",
       "    <tr>\n",
       "      <th>11354</th>\n",
       "      <td>Anatomy of a Boyfriend</td>\n",
       "      <td>[Anatomy , 1]</td>\n",
       "      <td>Daria Snadowsky</td>\n",
       "      <td>3.40</td>\n",
       "      <td>5001</td>\n",
       "      <td>556</td>\n",
       "      <td>In her last semester at a private school in Fo...</td>\n",
       "      <td>259</td>\n",
       "      <td>[2007]</td>\n",
       "      <td></td>\n",
       "      <td>Florida, Fort Myers, Florida</td>\n",
       "      <td>https://www.goodreads.com/book/show/37780.Anat...</td>\n",
       "    </tr>\n",
       "    <tr>\n",
       "      <th>11355</th>\n",
       "      <td>James</td>\n",
       "      <td>[Resisting Love , 3]</td>\n",
       "      <td>Chantal Fernando</td>\n",
       "      <td>4.08</td>\n",
       "      <td>3089</td>\n",
       "      <td>138</td>\n",
       "      <td>James Steele leads a complicated life, a life ...</td>\n",
       "      <td>261</td>\n",
       "      <td>[2013]</td>\n",
       "      <td></td>\n",
       "      <td></td>\n",
       "      <td>https://www.goodreads.com/book/show/17832986-j...</td>\n",
       "    </tr>\n",
       "    <tr>\n",
       "      <th>11356</th>\n",
       "      <td>Jill Kismet: The Complete Series</td>\n",
       "      <td>[Jill Kismet , 1-6]</td>\n",
       "      <td>Lilith Saintcrow</td>\n",
       "      <td>4.16</td>\n",
       "      <td>763</td>\n",
       "      <td>52</td>\n",
       "      <td>Not everyone can take on the things that go bu...</td>\n",
       "      <td>1408</td>\n",
       "      <td>[2013]</td>\n",
       "      <td></td>\n",
       "      <td></td>\n",
       "      <td>https://www.goodreads.com/book/show/13598284-j...</td>\n",
       "    </tr>\n",
       "    <tr>\n",
       "      <th>11357</th>\n",
       "      <td>A Terrible Love</td>\n",
       "      <td>[A Terrible Love , 1]</td>\n",
       "      <td>Marata Eros</td>\n",
       "      <td>3.78</td>\n",
       "      <td>3663</td>\n",
       "      <td>401</td>\n",
       "      <td>Jess Mackey is living a meticulously fabricate...</td>\n",
       "      <td>272</td>\n",
       "      <td>[2013]</td>\n",
       "      <td>Jess Mackey, Devin Castile</td>\n",
       "      <td></td>\n",
       "      <td>https://www.goodreads.com/book/show/17800558-a...</td>\n",
       "    </tr>\n",
       "  </tbody>\n",
       "</table>\n",
       "<p>11358 rows × 12 columns</p>\n",
       "</div>"
      ],
      "text/plain": [
       "                                               bookTitle  \\\n",
       "0                                       The Hunger Games   \n",
       "1              Harry Potter and the Order of the Phoenix   \n",
       "2                                               Twilight   \n",
       "3                               The Chronicles of Narnia   \n",
       "4      J.R.R. Tolkien 4-Book Boxed Set: The Hobbit an...   \n",
       "...                                                  ...   \n",
       "11353                                        The Triplex   \n",
       "11354                             Anatomy of a Boyfriend   \n",
       "11355                                              James   \n",
       "11356                   Jill Kismet: The Complete Series   \n",
       "11357                                    A Terrible Love   \n",
       "\n",
       "                                              bookSeries       bookAuthors  \\\n",
       "0                                 [The Hunger Games , 1]   Suzanne Collins   \n",
       "1                                     [Harry Potter , 5]      J.K. Rowling   \n",
       "2                                [The Twilight Saga , 1]   Stephenie Meyer   \n",
       "3      [The Chronicles of Narnia Publication Order , ...        C.S. Lewis   \n",
       "4                          [The Lord of the Rings , 0-3]    J.R.R. Tolkien   \n",
       "...                                                  ...               ...   \n",
       "11353                                    [Guardians , 4]      Lola St. Vil   \n",
       "11354                                      [Anatomy , 1]   Daria Snadowsky   \n",
       "11355                               [Resisting Love , 3]  Chantal Fernando   \n",
       "11356                                [Jill Kismet , 1-6]  Lilith Saintcrow   \n",
       "11357                              [A Terrible Love , 1]       Marata Eros   \n",
       "\n",
       "       ratingValue  ratingCount  reviewCount  \\\n",
       "0             4.33      6413302       172615   \n",
       "1             4.50      2527001        42768   \n",
       "2             3.60      4993492       104954   \n",
       "3             4.26       522287        10407   \n",
       "4             4.60       110883         1791   \n",
       "...            ...          ...          ...   \n",
       "11353         4.40         2016           58   \n",
       "11354         3.40         5001          556   \n",
       "11355         4.08         3089          138   \n",
       "11356         4.16          763           52   \n",
       "11357         3.78         3663          401   \n",
       "\n",
       "                                                    Plot NumberofPages  \\\n",
       "0      Could you survive on your own in the wild, wit...           374   \n",
       "1      There is a door at the end of a silent corrido...           870   \n",
       "2      About three things I was absolutely positive.F...           501   \n",
       "3      Journeys to the end of the world, fantastic cr...           767   \n",
       "4      This four-volume, boxed set contains J.R.R. To...          1728   \n",
       "...                                                  ...           ...   \n",
       "11353  Love, torture, betrayalAnd a twist that will c...                 \n",
       "11354  In her last semester at a private school in Fo...           259   \n",
       "11355  James Steele leads a complicated life, a life ...           261   \n",
       "11356  Not everyone can take on the things that go bu...          1408   \n",
       "11357  Jess Mackey is living a meticulously fabricate...           272   \n",
       "\n",
       "      Published                                         Characters  \\\n",
       "0        [2008]  Katniss Everdeen, Peeta Mellark, Cato (Hunger ...   \n",
       "1        [2004]  Sirius Black, Draco Malfoy, Ron Weasley, Petun...   \n",
       "2        [2006]  Edward Cullen, Jacob Black, Laurent, Renee, Be...   \n",
       "3        [2002]  Polly, Aslan, Lucy Pevensie, Edmund Pevensie, ...   \n",
       "4        [2012]      Frodo Baggins, Gandalf, Bilbo Baggins, Gollum   \n",
       "...         ...                                                ...   \n",
       "11353    [2012]                                                      \n",
       "11354    [2007]                                                      \n",
       "11355    [2013]                                                      \n",
       "11356    [2013]                                                      \n",
       "11357    [2013]                         Jess Mackey, Devin Castile   \n",
       "\n",
       "                                                 Setting  \\\n",
       "0              District 12, Panem, Capitol, Panem, Panem   \n",
       "1      Hogwarts School of Witchcraft and Wizardry, Lo...   \n",
       "2      Forks, Washington, Phoenix, Arizona, Washingto...   \n",
       "3                                        London, England   \n",
       "4                                           Middle-earth   \n",
       "...                                                  ...   \n",
       "11353                                                      \n",
       "11354                       Florida, Fort Myers, Florida   \n",
       "11355                                                      \n",
       "11356                                                      \n",
       "11357                                                      \n",
       "\n",
       "                                                     Url  \n",
       "0      https://www.goodreads.com/book/show/2767052-th...  \n",
       "1      https://www.goodreads.com/book/show/2.Harry_Po...  \n",
       "2      https://www.goodreads.com/book/show/41865.Twil...  \n",
       "3      https://www.goodreads.com/book/show/11127.The_...  \n",
       "4      https://www.goodreads.com/book/show/30.J_R_R_T...  \n",
       "...                                                  ...  \n",
       "11353  https://www.goodreads.com/book/show/16650238-t...  \n",
       "11354  https://www.goodreads.com/book/show/37780.Anat...  \n",
       "11355  https://www.goodreads.com/book/show/17832986-j...  \n",
       "11356  https://www.goodreads.com/book/show/13598284-j...  \n",
       "11357  https://www.goodreads.com/book/show/17800558-a...  \n",
       "\n",
       "[11358 rows x 12 columns]"
      ]
     },
     "execution_count": 12,
     "metadata": {},
     "output_type": "execute_result"
    }
   ],
   "source": [
    "dataset"
   ]
  },
  {
   "cell_type": "markdown",
   "metadata": {},
   "source": [
    "Once we got the clean dataset we moved on to the second step. We created a dictionary containing 10 keys (for the first 10 bookSeries, which we were asked to take into account). We excluded all the bookSeries containing a single book as they are not useful for our visualization. \n",
    "\n",
    "For each key we created a list of lists. Each list contains two values: the first is the number of years passed since the publication of the first book of the series and the second is the number of pages piled up. This was done in two steps:\n",
    "* Getting the year of publication and the number of pages for each book in each series;\n",
    "* Taking the minimum year of publication as an initial value of each series and subsequently calculating for each book in the series the years passed since the publication of the first volume.\n",
    "\n",
    "We used a counter to keep track of the number of accumulated pages for each series."
   ]
  },
  {
   "cell_type": "code",
   "execution_count": 13,
   "metadata": {},
   "outputs": [],
   "source": [
    "dictionary = fun.new_dictionary(dataset)"
   ]
  },
  {
   "cell_type": "code",
   "execution_count": 14,
   "metadata": {},
   "outputs": [
    {
     "data": {
      "text/plain": [
       "{'The Hunger Games ': [[0, 374], [1, 765], [2, 1155], [12, 1594]],\n",
       " 'Harry Potter ': [[0, 341],\n",
       "  [3, 1075],\n",
       "  [4, 1384],\n",
       "  [5, 2254],\n",
       "  [5, 2689],\n",
       "  [7, 3341],\n",
       "  [8, 4100],\n",
       "  [17, 4443]],\n",
       " 'The Twilight Saga ': [[0, 501], [0, 1064], [1, 1693], [2, 2449], [14, 3111]],\n",
       " 'The Chronicles of Narnia Publication Order ': [[0, 224],\n",
       "  [10, 430],\n",
       "  [10, 718],\n",
       "  [10, 958],\n",
       "  [11, 1206],\n",
       "  [13, 1449]],\n",
       " 'The Lord of the Rings ': [[0, 527], [1, 912], [30, 1234]],\n",
       " \"The Hitchhiker's Guide to the Galaxy \": [[0, 288],\n",
       "  [12, 538],\n",
       "  [12, 762],\n",
       "  [14, 955],\n",
       "  [15, 1180]],\n",
       " 'Robert Langdon ': [[0, 489], [0, 1225], [3, 1734]],\n",
       " \"Alice's Adventures in Wonderland \": [[0, 228], [4, 324]],\n",
       " 'Divergent ': [[0, 487], [0, 1012], [1, 1538]],\n",
       " 'The Mortal Instruments ': [[0, 485],\n",
       "  [1, 938],\n",
       "  [2, 1479],\n",
       "  [4, 1904],\n",
       "  [5, 2450],\n",
       "  [7, 3175]]}"
      ]
     },
     "execution_count": 14,
     "metadata": {},
     "output_type": "execute_result"
    }
   ],
   "source": [
    "dictionary"
   ]
  },
  {
   "cell_type": "markdown",
   "metadata": {},
   "source": [
    "In the third and final step, we created a plot for each key of the dictionary by placing the number of years since publication on the x axis and the total book pages on the y axis. For each plot we can observe a cumulative trend similar to CDF trend."
   ]
  },
  {
   "cell_type": "code",
   "execution_count": 15,
   "metadata": {},
   "outputs": [
    {
     "data": {
      "image/png": "[encoded data removed]",
      "text/plain": [
       "<Figure size 432x288 with 1 Axes>"
      ]
     },
     "metadata": {},
     "output_type": "display_data"
    },
    {
     "data": {
      "image/png": "[encoded data removed]",
      "text/plain": [
       "<Figure size 432x288 with 1 Axes>"
      ]
     },
     "metadata": {},
     "output_type": "display_data"
    },
    {
     "data": {
      "image/png": "[encoded data removed]",
      "text/plain": [
       "<Figure size 432x288 with 1 Axes>"
      ]
     },
     "metadata": {},
     "output_type": "display_data"
    },
    {
     "data": {
      "image/png": "[encoded data removed]",
      "text/plain": [
       "<Figure size 432x288 with 1 Axes>"
      ]
     },
     "metadata": {},
     "output_type": "display_data"
    },
    {
     "data": {
      "image/png": "[encoded data removed]",
      "text/plain": [
       "<Figure size 432x288 with 1 Axes>"
      ]
     },
     "metadata": {},
     "output_type": "display_data"
    },
    {
     "data": {
      "image/png": "[encoded data removed]",
      "text/plain": [
       "<Figure size 432x288 with 1 Axes>"
      ]
     },
     "metadata": {},
     "output_type": "display_data"
    },
    {
     "data": {
      "image/png": "[encoded data removed]",
      "text/plain": [
       "<Figure size 432x288 with 1 Axes>"
      ]
     },
     "metadata": {},
     "output_type": "display_data"
    },
    {
     "data": {
      "image/png": "[encoded data removed]",
      "text/plain": [
       "<Figure size 432x288 with 1 Axes>"
      ]
     },
     "metadata": {},
     "output_type": "display_data"
    },
    {
     "data": {
      "image/png": "[encoded data removed]",
      "text/plain": [
       "<Figure size 432x288 with 1 Axes>"
      ]
     },
     "metadata": {},
     "output_type": "display_data"
    },
    {
     "data": {
      "image/png": "[encoded data removed]",
      "text/plain": [
       "<Figure size 432x288 with 1 Axes>"
      ]
     },
     "metadata": {},
     "output_type": "display_data"
    }
   ],
   "source": [
    "fun.plot_dictionary(dictionary)"
   ]
  },
  {
   "cell_type": "markdown",
   "metadata": {},
   "source": [
    "## 5) Algorithmic Question"
   ]
  },
  {
   "cell_type": "markdown",
   "metadata": {},
   "source": [
    "For this exercise, we chose to not rely on an external functions file, as we felt that the code we wrote was an essential part of the assignment and the answers would be lacking without showing it in full."
   ]
  },
  {
   "cell_type": "markdown",
   "metadata": {},
   "source": [
    "### Answer 5.1"
   ]
  },
  {
   "cell_type": "markdown",
   "metadata": {},
   "source": [
    "We created a recursive program which, given a string, determines the length of its longest subsequence that is still in alphabetical order. Our program is composed of two functions: the first calculates the maximum length for each set of subsequences considered at the variation of the last letter, while the second returns the absolute maximum. \n",
    "\n",
    "For the first function we have initially defined a variable n equal to the length of the string and a variable \"max_end\". This variable is updated for each cluster of substrings, to define the max length of each. We then defined the recursive function in a for loop with range equal to n. For each index we computed the recursive function considering the strings that start from the first letter up until the i-th one. \n",
    "\n",
    "Now, for each instance we save the result with the variable \"partial\". In those cases when the letter in position i-1 comes first in alphabetical order with respect to the letter in position n-1 and at the same time the value \"partial\" +1 is greater than max_end, then we update max_end as partial+1. \n",
    "\n",
    "In the second function, we set the initial max_value as 1 and then apply the previous function to calculate the final absolute max value, which is then returned."
   ]
  },
  {
   "cell_type": "code",
   "execution_count": 121,
   "metadata": {},
   "outputs": [],
   "source": [
    "def substring_ending(string):\n",
    "    global max_value\n",
    "    n = len(string)\n",
    "    max_end=1\n",
    "    for i in range(1,n):\n",
    "        partial =substring_ending(string[:i])\n",
    "        if string[i-1] < string[n-1] and partial + 1 > max_end:\n",
    "            max_end = partial + 1\n",
    "        if max_end > max_value:\n",
    "            max_value = max_end\n",
    "    return max_end\n",
    "\n",
    "def longest_substring(string):\n",
    "    global max_value\n",
    "    max_value = 1\n",
    "    substring_ending(string)\n",
    "    return max_value\n",
    "                            "
   ]
  },
  {
   "cell_type": "code",
   "execution_count": 122,
   "metadata": {},
   "outputs": [
    {
     "data": {
      "text/plain": [
       "4"
      ]
     },
     "execution_count": 122,
     "metadata": {},
     "output_type": "execute_result"
    }
   ],
   "source": [
    "substring_ending(\"zabch\")"
   ]
  },
  {
   "cell_type": "code",
   "execution_count": 123,
   "metadata": {},
   "outputs": [
    {
     "data": {
      "text/plain": [
       "7"
      ]
     },
     "execution_count": 123,
     "metadata": {},
     "output_type": "execute_result"
    }
   ],
   "source": [
    "longest_substring(\"lmabcnofgqrhi\")"
   ]
  },
  {
   "cell_type": "code",
   "execution_count": 128,
   "metadata": {},
   "outputs": [
    {
     "data": {
      "text/plain": [
       "4"
      ]
     },
     "execution_count": 128,
     "metadata": {},
     "output_type": "execute_result"
    }
   ],
   "source": [
    "longest_substring(\"moabloc\")"
   ]
  },
  {
   "cell_type": "markdown",
   "metadata": {},
   "source": [
    "This algorithm's running time is exponential, equal to 2<sup>n</sup> (this will be shown in the next point). For this reason, when increasing the length of the string even of one single unit, the time needed to obtain the max length substring will double. Considering the string \"CADFECEILGJHABNOPSTIRYOEABILCNR\" we get a running time of 2<sup>31</sup>, therefore the algorithm will not compute within a reasonable time."
   ]
  },
  {
   "cell_type": "markdown",
   "metadata": {},
   "source": [
    "### Answer 5.2"
   ]
  },
  {
   "cell_type": "markdown",
   "metadata": {},
   "source": [
    "We now want to prove that the running time of this algorithm is exponential. We know that it uses a recursive function to determine the lenght of the longest substring which is still in alphabetical order. So, for a given string of length \"n\", we can generalise our function as f(n). \n",
    "\n",
    "For the recurrence, we can now define f(n) = f(n-1) + f(n-2) + f(n-3) + ... + f(1)\n",
    "Consequently, we can define f(n-1) =f(n-2) + f(n-3) + ... + f(1)\n",
    "\n",
    "Working on these two equations we can simplify as follows:\n",
    "\n",
    "f(n) = f(n-1) + f(n-2) + f(n-3) + ... + f(1) = (f(n-2) + f(n-2) + f(n-3) + ... + f(1)) + f(n-2) + f(n-3) + ... + f(1) = 2 * f(n-1)\n",
    "\n",
    "This procedure can be replicated for f(n-1), f(n-2), etc. up until f(1):\n",
    "f(n) = 2f(n-1) f(n-1) = 2f(n-2) ... f(2) = 2f(1) f(1) = 2f(0)\n",
    "\n",
    "By combining all these equations together we can write:\n",
    "f(n) = 2 * f(n-1) = 2 * 2 * f(n-2) = 2 * 2 * 2 * f(n-3) = 2 * 2 * 2 * 2 * f(n-4) = ..... = (2<sup>n</sup> - 1) * f(1) = (2<sup>n</sup>) * f(0) = O( 2<sup>n</sup> )\n",
    "\n",
    "Therefore, we have proved that the recursive function has an exponential running time, as previously stated."
   ]
  },
  {
   "cell_type": "markdown",
   "metadata": {},
   "source": [
    "### Answer 5.3"
   ]
  },
  {
   "cell_type": "markdown",
   "metadata": {},
   "source": [
    "The program we created by using dynamic programming takes a string and associates it to a list containing for each letter of the string an initial value equal to 1. To update these values, we compare letter by letter each letter of the string, to check which one comes first in alphabetical order. If the letter in position j-th (with 0<j<i) is \"smaller\" than the letter in position i, we check the value associated to those letters in the \"match\" list. If the value of the list in position i is \"smaller\" than the value of the list in position j+1, we will update the value of the i-th list to the value of the list in position j+1. When the letter in position j is instead bigger than position i, then we go on without changing anything. Once the for loop is completed, we will have obtained a new \"match\" list, which contains for each i-th letter the length of the max substring which can be obtained by starting from the beginning of the string until the i-th position, skipping the letters greater than the letter in position i.\n",
    "\n",
    "At this point, to determine the length of the longest substring in alphabetical order we simply have to find the value in the \"match\" list."
   ]
  },
  {
   "cell_type": "code",
   "execution_count": 125,
   "metadata": {},
   "outputs": [],
   "source": [
    "def longestSubstring(string):\n",
    "    match=[]\n",
    "    for i in range(len(string)):\n",
    "        match.append(1)\n",
    "    for i in range(0, len(string)):\n",
    "        for j in range(0,i):\n",
    "            if string[j] < string[i]:\n",
    "                if match[i] < match[j] +1:\n",
    "                    match[i] = match[j] +1\n",
    "    max_value = max(match)\n",
    "    return max_value\n",
    " "
   ]
  },
  {
   "cell_type": "code",
   "execution_count": 126,
   "metadata": {},
   "outputs": [
    {
     "data": {
      "text/plain": [
       "11"
      ]
     },
     "execution_count": 126,
     "metadata": {},
     "output_type": "execute_result"
    }
   ],
   "source": [
    "longestSubstring(\"CADFECEILGJHABNOPSTIRYOEABILCNR.\")"
   ]
  },
  {
   "cell_type": "markdown",
   "metadata": {},
   "source": [
    "### Answer 5.4"
   ]
  },
  {
   "cell_type": "markdown",
   "metadata": {},
   "source": [
    "The time complexity for the program defined in the question 5.3 is equal to O(n<sup>2</sup>). This can be easily shown by analyzing the  function: there are two linear operations, a single for loop  with one operation in it and a nested for loop with 3 operations in it. Thus, we get a time complexity equal to:\n",
    "\n",
    " Time Complexity = 3n<sup>2</sup>+ n + 2 = O(n<sup>2</sup>)\n",
    " \n",
    "In this time complexity we can drop the costant element and also the element with 1°grade. Consequently, the time complexity is asymptotic to n<sup>2</sup>."
   ]
  }
 ],
 "metadata": {
  "kernelspec": {
   "display_name": "Python 3",
   "language": "python",
   "name": "python3"
  },
  "language_info": {
   "codemirror_mode": {
    "name": "ipython",
    "version": 3
   },
   "file_extension": ".py",
   "mimetype": "text/x-python",
   "name": "python",
   "nbconvert_exporter": "python",
   "pygments_lexer": "ipython3",
   "version": "3.8.3"
  }
 },
 "nbformat": 4,
 "nbformat_minor": 4
}
